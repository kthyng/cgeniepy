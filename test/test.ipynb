{
 "cells": [
  {
   "cell_type": "code",
   "execution_count": null,
   "metadata": {},
   "outputs": [],
   "source": [
    "from cgeniepy.table import ScatterData\n",
    "import xarray as xr\n",
    "\n",
    "import numpy as np\n",
    "import pandas as pd\n",
    "import matplotlib.pyplot as plt\n",
    "import seaborn as sns\n",
    "plt.rcParams[\"font.family\"] = \"Helvetica\"\n",
    "\n",
    "x = ScatterData(\"./LGM_d13c_CLEAN.txt\", sep='\\t', header=0)\n",
    "x.data.columns = ['lon', 'lat', 'depth', 'd13C', 'core']\n",
    "#x.set_index(['lat'])\n",
    "x.data\n",
    "## convert data frame to float expce the core column\n",
    "#import pandas as pd\n",
    "\n",
    "#x.data = x.data.apply(pd.to_numeric, errors='coerce')\n",
    "#x.drop_na(subset=['d13C'])\n",
    "#x.detect_basin()"
   ]
  },
  {
   "cell_type": "code",
   "execution_count": null,
   "metadata": {},
   "outputs": [],
   "source": [
    "isinstance(x.data.index, pd.core.indexes.range.RangeIndex)"
   ]
  },
  {
   "cell_type": "code",
   "execution_count": null,
   "metadata": {},
   "outputs": [],
   "source": [
    "import numpy as np\n",
    "x = np.random.rand(36, 36)\n",
    "y = x + np.random.rand(36, 36) * 0.5\n",
    "\n",
    "## calculate skill score\n",
    "from cgeniepy.skill import ArrComparison\n",
    "ms = ArrComparison(x, y)\n",
    "ms.plot()"
   ]
  },
  {
   "cell_type": "code",
   "execution_count": null,
   "metadata": {},
   "outputs": [],
   "source": [
    "x = ScatterData(\"/Users/yingrui/Science/lgm_foram_census/tidy/forcens_fg_a_tidy.csv\")\n",
    "x.set_index(['Latitude','Longitude'])"
   ]
  },
  {
   "cell_type": "code",
   "execution_count": 1,
   "metadata": {},
   "outputs": [
    {
     "name": "stderr",
     "output_type": "stream",
     "text": [
      "<frozen importlib._bootstrap>:241: RuntimeWarning: scipy._lib.messagestream.MessageStream size changed, may indicate binary incompatibility. Expected 56 from C header, got 64 from PyObject\n"
     ]
    },
    {
     "ename": "ValueError",
     "evalue": "/Users/yingrui/Downloads/EXP.R07sm_Corg2 is not a valid directory",
     "output_type": "error",
     "traceback": [
      "\u001b[0;31m---------------------------------------------------------------------------\u001b[0m",
      "\u001b[0;31mValueError\u001b[0m                                Traceback (most recent call last)",
      "Cell \u001b[0;32mIn[1], line 6\u001b[0m\n\u001b[1;32m      3\u001b[0m \u001b[38;5;28;01mfrom\u001b[39;00m \u001b[38;5;21;01mcartopy\u001b[39;00m \u001b[38;5;28;01mimport\u001b[39;00m crs \u001b[38;5;28;01mas\u001b[39;00m ccrs\n\u001b[1;32m      5\u001b[0m model1 \u001b[38;5;241m=\u001b[39m GenieModel(\u001b[38;5;124m\"\u001b[39m\u001b[38;5;124m/Users/yingrui/Science/lgm_foram_niche/model/muffin.CBE.worlg4.BASESFeTDTL.SPIN\u001b[39m\u001b[38;5;124m\"\u001b[39m, gemflag\u001b[38;5;241m=\u001b[39m\u001b[38;5;124m'\u001b[39m\u001b[38;5;124mbiogem\u001b[39m\u001b[38;5;124m'\u001b[39m)\n\u001b[0;32m----> 6\u001b[0m model2 \u001b[38;5;241m=\u001b[39m \u001b[43mGenieModel\u001b[49m\u001b[43m(\u001b[49m\u001b[38;5;124;43m\"\u001b[39;49m\u001b[38;5;124;43m/Users/yingrui/Downloads/EXP.R07sm_Corg2\u001b[39;49m\u001b[38;5;124;43m\"\u001b[39;49m\u001b[43m,\u001b[49m\u001b[43m \u001b[49m\u001b[43mgemflag\u001b[49m\u001b[38;5;241;43m=\u001b[39;49m\u001b[38;5;124;43m'\u001b[39;49m\u001b[38;5;124;43mbiogem\u001b[39;49m\u001b[38;5;124;43m'\u001b[39;49m\u001b[43m)\u001b[49m\n\u001b[1;32m      8\u001b[0m sst1 \u001b[38;5;241m=\u001b[39m model1\u001b[38;5;241m.\u001b[39mget_var(\u001b[38;5;124m\"\u001b[39m\u001b[38;5;124mocn_sur_temp\u001b[39m\u001b[38;5;124m\"\u001b[39m)\u001b[38;5;241m.\u001b[39misel(time\u001b[38;5;241m=\u001b[39m\u001b[38;5;241m-\u001b[39m\u001b[38;5;241m1\u001b[39m)\n\u001b[1;32m      9\u001b[0m sst2 \u001b[38;5;241m=\u001b[39m model2\u001b[38;5;241m.\u001b[39mget_var(\u001b[38;5;124m\"\u001b[39m\u001b[38;5;124mocn_sur_temp\u001b[39m\u001b[38;5;124m\"\u001b[39m)\u001b[38;5;241m.\u001b[39misel(time\u001b[38;5;241m=\u001b[39m\u001b[38;5;241m-\u001b[39m\u001b[38;5;241m1\u001b[39m)\n",
      "File \u001b[0;32m~/cgeniepy/src/cgeniepy/model.py:48\u001b[0m, in \u001b[0;36mGenieModel.__init__\u001b[0;34m(self, model_path, gemflag)\u001b[0m\n\u001b[1;32m     46\u001b[0m     \u001b[38;5;28mself\u001b[39m\u001b[38;5;241m.\u001b[39mis_ensemble \u001b[38;5;241m=\u001b[39m \u001b[38;5;28;01mFalse\u001b[39;00m\n\u001b[1;32m     47\u001b[0m     \u001b[38;5;28;01mif\u001b[39;00m \u001b[38;5;129;01mnot\u001b[39;00m Path(model_path)\u001b[38;5;241m.\u001b[39mis_dir():\n\u001b[0;32m---> 48\u001b[0m         \u001b[38;5;28;01mraise\u001b[39;00m \u001b[38;5;167;01mValueError\u001b[39;00m(\u001b[38;5;124mf\u001b[39m\u001b[38;5;124m\"\u001b[39m\u001b[38;5;132;01m{\u001b[39;00mmodel_path\u001b[38;5;132;01m}\u001b[39;00m\u001b[38;5;124m is not a valid directory\u001b[39m\u001b[38;5;124m\"\u001b[39m)\n\u001b[1;32m     50\u001b[0m \u001b[38;5;28;01mif\u001b[39;00m \u001b[38;5;129;01mnot\u001b[39;00m gemflag:\n\u001b[1;32m     51\u001b[0m     warnings\u001b[38;5;241m.\u001b[39mwarn(\u001b[38;5;124m\"\u001b[39m\u001b[38;5;124mNo gemflag is provided, use default gemflags: [biogem]\u001b[39m\u001b[38;5;124m\"\u001b[39m)\n",
      "\u001b[0;31mValueError\u001b[0m: /Users/yingrui/Downloads/EXP.R07sm_Corg2 is not a valid directory"
     ]
    }
   ],
   "source": [
    "from cgeniepy.model import GenieModel\n",
    "import matplotlib.pyplot as plt\n",
    "from cartopy import crs as ccrs\n",
    "\n",
    "model1 = GenieModel(\"/Users/yingrui/Science/lgm_foram_niche/model/muffin.CBE.worlg4.BASESFeTDTL.SPIN\", gemflag='biogem')\n",
    "model2 = GenieModel(\"/Users/yingrui/Downloads/EXP.R07sm_Corg2\", gemflag='biogem')\n",
    "\n",
    "sst1 = model1.get_var(\"ocn_sur_temp\").isel(time=-1)\n",
    "sst2 = model2.get_var(\"ocn_sur_temp\").isel(time=-1)\n",
    "\n",
    "fig, ax = plt.subplots(1, 2, figsize=(10, 5), subplot_kw={'projection': ccrs.Robinson(central_longitude=-80)})\n",
    "\n",
    "## use differnet colormap\n",
    "sst1.aes_dict['pcolormesh_kwargs']['cmap'] = plt.cm.Spectral_r\n",
    "sst1.aes_dict['pcolormesh_kwargs']['vmax'] = 35\n",
    "sst1.aes_dict['pcolormesh_kwargs']['vmin'] = 0\n",
    "\n",
    "sst2.aes_dict['pcolormesh_kwargs']['cmap'] = plt.cm.Spectral_r\n",
    "sst2.aes_dict['pcolormesh_kwargs']['vmax'] = 35\n",
    "sst2.aes_dict['pcolormesh_kwargs']['vmin'] = 0\n",
    "\n",
    "sst1.aes_dict['colorbar_label_kwargs']['label'] = \"Sea surface temperature (°C)\"\n",
    "sst2.aes_dict['colorbar_label_kwargs']['label'] = \"Sea surface temperature (°C)\"\n",
    "\n",
    "sst1.plot(ax=ax[0], colorbar=True, outline=True)\n",
    "sst2.plot(ax=ax[1], colorbar=True, outline=True)\n",
    "\n",
    "ax[0].set_title(\"Modern (0 Ma)\")\n",
    "ax[1].set_title(\"PETM (55 Ma)\")\n",
    "\n",
    "## save \n",
    "#plt.savefig(\"fig1.png\", dpi=300, bbox_inches=\"tight\")"
   ]
  },
  {
   "cell_type": "code",
   "execution_count": 1,
   "metadata": {},
   "outputs": [
    {
     "name": "stderr",
     "output_type": "stream",
     "text": [
      "<frozen importlib._bootstrap>:241: RuntimeWarning: scipy._lib.messagestream.MessageStream size changed, may indicate binary incompatibility. Expected 56 from C header, got 64 from PyObject\n"
     ]
    }
   ],
   "source": [
    "from cgeniepy.model import GenieModel\n",
    "\n",
    "pi_model = GenieModel(\"/Users/yingrui/Science/lgm_foram_niche/model/muffin.CBE.worlg4.BASESFeTDTL.SPIN\", gemflag='biogem')\n",
    "\n",
    "x = pi_model.get_var(\"ocn_sur_temp\").isel(time=-1).to_ScatterData()"
   ]
  },
  {
   "cell_type": "code",
   "execution_count": null,
   "metadata": {},
   "outputs": [],
   "source": [
    "sst2 = model2.get_var(\"ocn_sur_temp\").isel(time=-1)\n",
    "sst2.array"
   ]
  },
  {
   "cell_type": "code",
   "execution_count": null,
   "metadata": {},
   "outputs": [],
   "source": [
    "sst1.array.attrs['units'] = '°C'"
   ]
  },
  {
   "cell_type": "code",
   "execution_count": null,
   "metadata": {},
   "outputs": [],
   "source": [
    "from cgeniepy.model import GenieModel\n",
    "\n",
    "test_model = GenieModel(\"/Users/yingrui/Science/lgm_bcp/model/muffin.CB.worlg4.BASESFeTDTL.SPIN\", gemflag=\"biogem\")\n",
    "test_array = test_model.get_var(\"ocn_temp\")\n",
    "\n",
    "## search for the nearest point\n",
    "point = [0,0,30]\n",
    "\n",
    "test_array.search_grid(point, ignore_na=True)"
   ]
  },
  {
   "cell_type": "code",
   "execution_count": null,
   "metadata": {},
   "outputs": [],
   "source": [
    "from cgeniepy.model import GenieModel\n",
    "import cmocean as cmo\n",
    "import matplotlib.pyplot as plt\n",
    "\n",
    "model = GenieModel(\"/Users/yingrui/Science/lgm_foram_niche/model/muffin.CBE.worlg4.BASESFeTDTL.SPIN\")\n",
    "\n",
    "fig, ax = plt.subplots(2,1, figsize=(6, 6))\n",
    "\n",
    "atlatic_po4 = model.get_var('ocn_PO4').isel(time=-1).mask_basin(base='worjh2',basin='Atlantic', subbasin='').mean(dim='lon')\n",
    "\n",
    "atlatic_po4.aes_dict['pcolormesh_kwargs']['cmap'] = cmo.cm.thermal\n",
    "atlatic_po4.aes_dict['contour_kwargs']['levels'] = 12\n",
    "\n",
    "atlatic_po4.plot(ax=ax[0], colorbar=True, contour=True)\n",
    "atlatic_po4.interpolate().plot(ax=ax[1], colorbar=True, contour=True)\n",
    "\n",
    "ax[0].set_title(\"Original\")\n",
    "ax[1].set_title(\"Interpolated\")\n",
    "\n",
    "fig.tight_layout()\n",
    "plt.savefig(\"../publication/fig2.png\", dpi=300, bbox_inches=\"tight\")"
   ]
  },
  {
   "cell_type": "code",
   "execution_count": 11,
   "metadata": {},
   "outputs": [
    {
     "data": {
      "image/png": "[encoded data removed]",
      "text/plain": [
       "<Figure size 640x480 with 1 Axes>"
      ]
     },
     "metadata": {},
     "output_type": "display_data"
    }
   ],
   "source": [
    "from cgeniepy.table import ScatterData\n",
    "from cgeniepy.array import GriddedData\n",
    "from cgeniepy.model import GenieModel\n",
    "\n",
    "lgm_model = GenieModel(\"/Users/yingrui/Science/lgm_foram_niche/model/muffin.CBE.GIteiiva.BASESFeTDTL_rb.SPIN\", gemflag='biogem')\n",
    "lgm_d13C = lgm_model.get_var(\"ocn_DIC_13C\").isel(time=-1)\n",
    "\n",
    "## read in the proxy data and construct ScatterData object\n",
    "proxy_d13C = ScatterData(\"~/Science/lgm_bcp/data/lgm_d13C.xlsx\")\n",
    "proxy_d13C.set_index([\"Lat\", \"Lon\", \"Depth\"])\n",
    "\n",
    "model_data = []\n",
    "\n",
    "for i in proxy_d13C.data.index:\n",
    "    lat, lon, depth = i\n",
    "    pos = (depth, lat, lon)\n",
    "    data = lgm_d13C.search_point(pos, ignore_na=True)\n",
    "    model_data.append(data)\n",
    "\n",
    "## add the model data to the dataframe\n",
    "proxy_d13C.data[\"GENIE_d13C\"] = model_data\n",
    "\n",
    "## rename the column\n",
    "proxy_d13C.data.rename(columns={\"LGM\":\"Observational d13C\"}, inplace=True)\n",
    "\n",
    "## plot the comparison\n",
    "## by default, model data is in the col, and observational col is in the second\n",
    "proxy_d13C.compare(\"GENIE_d13C\",\"Observational d13C\").plot()\n",
    "\n",
    "## save the figure\n",
    "from matplotlib import pyplot as plt\n",
    "plt.savefig(\"fig2.png\", dpi=300, bbox_inches=\"tight\")"
   ]
  },
  {
   "cell_type": "code",
   "execution_count": 9,
   "metadata": {},
   "outputs": [
    {
     "data": {
      "text/html": [
       "<div>\n",
       "<style scoped>\n",
       "    .dataframe tbody tr th:only-of-type {\n",
       "        vertical-align: middle;\n",
       "    }\n",
       "\n",
       "    .dataframe tbody tr th {\n",
       "        vertical-align: top;\n",
       "    }\n",
       "\n",
       "    .dataframe thead th {\n",
       "        text-align: right;\n",
       "    }\n",
       "</style>\n",
       "<table border=\"1\" class=\"dataframe\">\n",
       "  <thead>\n",
       "    <tr style=\"text-align: right;\">\n",
       "      <th></th>\n",
       "      <th></th>\n",
       "      <th></th>\n",
       "      <th>Core</th>\n",
       "      <th>HOL</th>\n",
       "      <th>LGM</th>\n",
       "      <th>GENIE_d13C</th>\n",
       "    </tr>\n",
       "    <tr>\n",
       "      <th>Lat</th>\n",
       "      <th>Lon</th>\n",
       "      <th>Depth</th>\n",
       "      <th></th>\n",
       "      <th></th>\n",
       "      <th></th>\n",
       "      <th></th>\n",
       "    </tr>\n",
       "  </thead>\n",
       "  <tbody>\n",
       "    <tr>\n",
       "      <th>-71.13070</th>\n",
       "      <th>-119.91350</th>\n",
       "      <th>2077.0</th>\n",
       "      <td>JR179-TC493</td>\n",
       "      <td>0.800</td>\n",
       "      <td>0.200000</td>\n",
       "      <td>-0.386030</td>\n",
       "    </tr>\n",
       "    <tr>\n",
       "      <th>-53.40000</th>\n",
       "      <th>-123.10000</th>\n",
       "      <th>2964.0</th>\n",
       "      <td>RC12-255</td>\n",
       "      <td>0.402</td>\n",
       "      <td>-0.250667</td>\n",
       "      <td>-0.517469</td>\n",
       "    </tr>\n",
       "    <tr>\n",
       "      <th>-53.11667</th>\n",
       "      <th>-72.16667</th>\n",
       "      <th>950.0</th>\n",
       "      <td>MD84-560</td>\n",
       "      <td>0.700</td>\n",
       "      <td>0.300000</td>\n",
       "      <td>1.519695</td>\n",
       "    </tr>\n",
       "    <tr>\n",
       "      <th>-53.00000</th>\n",
       "      <th>169.00000</th>\n",
       "      <th>602.0</th>\n",
       "      <td>SO136-061</td>\n",
       "      <td>1.750</td>\n",
       "      <td>1.700000</td>\n",
       "      <td>1.709292</td>\n",
       "    </tr>\n",
       "    <tr>\n",
       "      <th>-50.38000</th>\n",
       "      <th>169.00000</th>\n",
       "      <th>585.0</th>\n",
       "      <td>MD97-2109</td>\n",
       "      <td>1.720</td>\n",
       "      <td>1.740000</td>\n",
       "      <td>1.779831</td>\n",
       "    </tr>\n",
       "    <tr>\n",
       "      <th>...</th>\n",
       "      <th>...</th>\n",
       "      <th>...</th>\n",
       "      <td>...</td>\n",
       "      <td>...</td>\n",
       "      <td>...</td>\n",
       "      <td>...</td>\n",
       "    </tr>\n",
       "    <tr>\n",
       "      <th>63.52000</th>\n",
       "      <th>-0.73000</th>\n",
       "      <th>2781.0</th>\n",
       "      <td>HM52-43</td>\n",
       "      <td>1.110</td>\n",
       "      <td>1.290000</td>\n",
       "      <td>0.388978</td>\n",
       "    </tr>\n",
       "    <tr>\n",
       "      <th>64.78000</th>\n",
       "      <th>-29.57000</th>\n",
       "      <th>1855.0</th>\n",
       "      <td>V28-14</td>\n",
       "      <td>0.910</td>\n",
       "      <td>1.170000</td>\n",
       "      <td>1.370856</td>\n",
       "    </tr>\n",
       "    <tr>\n",
       "      <th>64.80000</th>\n",
       "      <th>-29.60000</th>\n",
       "      <th>1893.0</th>\n",
       "      <td>GIK23519-5</td>\n",
       "      <td>1.200</td>\n",
       "      <td>1.380000</td>\n",
       "      <td>1.370856</td>\n",
       "    </tr>\n",
       "    <tr>\n",
       "      <th>66.68000</th>\n",
       "      <th>4.57000</th>\n",
       "      <th>1226.0</th>\n",
       "      <td>MD95-2010</td>\n",
       "      <td>0.900</td>\n",
       "      <td>0.460000</td>\n",
       "      <td>0.835158</td>\n",
       "    </tr>\n",
       "    <tr>\n",
       "      <th>69.37000</th>\n",
       "      <th>-6.55000</th>\n",
       "      <th>2711.0</th>\n",
       "      <td>PS1243-1</td>\n",
       "      <td>1.410</td>\n",
       "      <td>1.080000</td>\n",
       "      <td>0.388978</td>\n",
       "    </tr>\n",
       "  </tbody>\n",
       "</table>\n",
       "<p>359 rows × 4 columns</p>\n",
       "</div>"
      ],
      "text/plain": [
       "                                     Core    HOL       LGM  GENIE_d13C\n",
       "Lat       Lon        Depth                                            \n",
       "-71.13070 -119.91350 2077.0  JR179-TC493   0.800  0.200000   -0.386030\n",
       "-53.40000 -123.10000 2964.0      RC12-255  0.402 -0.250667   -0.517469\n",
       "-53.11667 -72.16667  950.0       MD84-560  0.700  0.300000    1.519695\n",
       "-53.00000  169.00000 602.0      SO136-061  1.750  1.700000    1.709292\n",
       "-50.38000  169.00000 585.0      MD97-2109  1.720  1.740000    1.779831\n",
       "...                                   ...    ...       ...         ...\n",
       " 63.52000 -0.73000   2781.0       HM52-43  1.110  1.290000    0.388978\n",
       " 64.78000 -29.57000  1855.0        V28-14  0.910  1.170000    1.370856\n",
       " 64.80000 -29.60000  1893.0    GIK23519-5  1.200  1.380000    1.370856\n",
       " 66.68000  4.57000   1226.0     MD95-2010  0.900  0.460000    0.835158\n",
       " 69.37000 -6.55000   2711.0      PS1243-1  1.410  1.080000    0.388978\n",
       "\n",
       "[359 rows x 4 columns]"
      ]
     },
     "execution_count": 9,
     "metadata": {},
     "output_type": "execute_result"
    }
   ],
   "source": [
    "proxy_d13C.data"
   ]
  },
  {
   "cell_type": "code",
   "execution_count": 2,
   "metadata": {},
   "outputs": [
    {
     "data": {
      "text/plain": [
       "ScatterData\n",
       "Columns: Index(['Core', 'Lat', 'Lon', 'Depth', 'HOL', 'LGM'], dtype='object')\n",
       "Rows: 359"
      ]
     },
     "execution_count": 2,
     "metadata": {},
     "output_type": "execute_result"
    }
   ],
   "source": [
    "proxy_d13C"
   ]
  },
  {
   "cell_type": "code",
   "execution_count": null,
   "metadata": {},
   "outputs": [],
   "source": [
    "from cgeniepy.table import ScatterData\n",
    "\n",
    "proxy_d13C = ScatterData(\"../data/lgm_d13C.xlsx\")\n",
    "proxy_d13C.set_index([\"Lat\",\"Lon\"])\n",
    "proxy_d13C.data['diff']= proxy_d13C.data['LGM'] - proxy_d13C.data['HOL']\n",
    "proxy_d13C = proxy_d13C.detect_basin()\n",
    "proxy_d13C.data = proxy_d13C.data.reset_index()\n",
    "proxy_d13C.set_index([\"Lat\",\"Lon\",\"Depth\"])\n",
    "\n",
    "\n",
    "## calculate RMSE\n",
    "lgm_eco_d13C = lgm_ecogem.get_var(\"ocn_DIC_13C\").isel(time=-1)\n",
    "lgm_bio_d13C = lgm_biogem.get_var(\"ocn_DIC_13C\").isel(time=-1)\n",
    "\n",
    "bio_list, eco_list = [], []\n",
    "\n",
    "for i in proxy_d13C.data.index:\n",
    "    lat, lon, depth = i\n",
    "    pos = (depth, lat, lon)\n",
    "    \n",
    "    bio_data = lgm_bio_d13C.search_point(pos, ignore_na=True)\n",
    "    eco_data = lgm_eco_d13C.search_point(pos, ignore_na=True)\n",
    "\n",
    "    bio_list.append(bio_data)\n",
    "    eco_list.append(eco_data)\n",
    "\n",
    "proxy_d13C.data['biogem_lgm'] = bio_list\n",
    "proxy_d13C.data['ecogem_lgm'] = eco_list\n",
    "\n",
    "proxy_d13C_indian = proxy_d13C.data[proxy_d13C.data['basin'].str.contains('Indian')]\n",
    "proxy_d13C_pacific = proxy_d13C.data[proxy_d13C.data['basin'].str.contains('Pacific')]\n",
    "proxy_d13C_atlantic = proxy_d13C.data[proxy_d13C.data['basin'].str.contains('Atlantic')]\n",
    "\n",
    "from cgeniepy.skill import DFComparison\n",
    "\n",
    "print(\"Indian Ocean (BIOGEM) RMSE\", DFComparison(proxy_d13C_indian, 'biogem_lgm', 'LGM').rmse())\n",
    "print(\"Indian Ocean (ECOGEM) RMSE\", DFComparison(proxy_d13C_indian, 'ecogem_lgm', 'LGM').rmse())\n",
    "\n",
    "print(\"Pacific Ocean (BIOGEM) RMSE\", DFComparison(proxy_d13C_pacific, 'biogem_lgm', 'LGM').rmse())\n",
    "print(\"Pacific Ocean (ECOGEM) RMSE\", DFComparison(proxy_d13C_pacific, 'ecogem_lgm', 'LGM').rmse())\n",
    "\n",
    "print(\"Atlantic Ocean (BIOGEM) RMSE\", DFComparison(proxy_d13C_atlantic, 'biogem_lgm', 'LGM').rmse())\n",
    "print(\"Atlantic Ocean (ECOGEM) RMSE\", DFComparison(proxy_d13C_atlantic, 'ecogem_lgm', 'LGM').rmse())\n",
    "\n",
    "rmse_biogem = [DFComparison(proxy_d13C_atlantic, 'biogem_lgm', 'LGM'),\n",
    "               DFComparison(proxy_d13C_indian, 'biogem_lgm', 'LGM'),\n",
    "               DFComparison(proxy_d13C_pacific, 'biogem_lgm', 'LGM')]\n",
    "\n",
    "rmse_ecogem = [DFComparison(proxy_d13C_atlantic, 'ecogem_lgm', 'LGM'),\n",
    "                DFComparison(proxy_d13C_indian, 'ecogem_lgm', 'LGM'),\n",
    "                DFComparison(proxy_d13C_pacific, 'ecogem_lgm', 'LGM')]\n",
    "\n"
   ]
  },
  {
   "cell_type": "code",
   "execution_count": 6,
   "metadata": {},
   "outputs": [
    {
     "data": {
      "text/plain": [
       "GriddedData\n",
       "data=<xarray.DataArray 'ocn_DIC_13C' (zt: 16, lat: 36, lon: 36)>\n",
       "[20736 values with dtype=float32]\n",
       "Coordinates:\n",
       "    time     float64 1e+04\n",
       "  * lon      (lon) float64 -255.0 -245.0 -235.0 -225.0 ... 65.0 75.0 85.0 95.0\n",
       "  * lat      (lat) float64 -76.46 -66.44 -59.44 -53.66 ... 59.44 66.44 76.46\n",
       "  * zt       (zt) float64 40.42 127.6 228.8 ... 3.283e+03 3.894e+03 4.604e+03\n",
       "Attributes:\n",
       "    valid_range:  [-999.  999.]\n",
       "    long_name:    d13C of DIC\n",
       "    units:        ‰\n",
       "mutable:\n",
       "    True"
      ]
     },
     "execution_count": 6,
     "metadata": {},
     "output_type": "execute_result"
    }
   ],
   "source": [
    "lgm_model.get_var(\"ocn_DIC_13C\").isel(time=-1)\n"
   ]
  },
  {
   "cell_type": "code",
   "execution_count": null,
   "metadata": {},
   "outputs": [],
   "source": [
    "from cgeniepy.model import GenieModel\n",
    "\n",
    "pi_model = GenieModel(\"/Users/yingrui/Science/lgm_foram_niche/model/muffin.CBE.worlg4.BASESFeTDTL.SPIN\", gemflag='biogem')\n",
    "\n",
    "# Example usage\n",
    "filename = \"biogem_year_09999_500_diag_GLOBAL_AVERAGE.res\"\n",
    "pi_model.get_diag_avg(filename)"
   ]
  },
  {
   "cell_type": "code",
   "execution_count": null,
   "metadata": {},
   "outputs": [],
   "source": [
    "from cgeniepy.model import GenieModel\n",
    "\n",
    "pi_model = GenieModel(\"/Users/yingrui/Science/lgm_foram_niche/model/muffin.CBE.worlg4.BASESFeTDTL.historical\", gemflag='biogem')\n",
    "\n",
    "df = pi_model.get_ts(\"ocn_PO4\")"
   ]
  },
  {
   "cell_type": "code",
   "execution_count": null,
   "metadata": {},
   "outputs": [],
   "source": [
    "# Set time as index\n",
    "df.set_index('time (yr)', inplace=True)\n",
    "\n",
    "# Get columns to plot (exclude time and model)\n",
    "plot_cols = [col for col in df.columns if col not in ['time (yr)', 'model']]\n",
    "\n",
    "# Create a figure and a grid of subplots\n",
    "num_rows = 3  # Number of rows in the grid\n",
    "num_cols = (len(plot_cols) + num_rows - 1) // num_rows  # Number of columns in the grid\n",
    "fig, axes = plt.subplots(nrows=num_rows, ncols=num_cols, figsize=(4 * num_cols, 3 * num_rows), sharex=True)\n",
    "\n",
    "# Flatten the axes array for easier iteration\n",
    "axes = axes.flatten()\n",
    "\n",
    "# Enumerate through columns to plot and plot on subplots\n",
    "for i, col in enumerate(plot_cols):\n",
    "    axes[i].plot(df.index, df[col])\n",
    "    axes[i].set_title(col)  # Add title to each subplot\n",
    "\n",
    "# Hide x-axis label on all subplots except the last row\n",
    "for ax in axes[:-num_cols]:\n",
    "    ax.set_xlabel('')\n",
    "\n",
    "# Common x-axis label for the bottom row of subplots\n",
    "for ax in axes[-num_cols:]:\n",
    "    ax.set_xlabel('Time')\n",
    "\n",
    "# Adjust layout (optional)\n",
    "plt.tight_layout()\n",
    "\n",
    "# Remove any unused subplots\n",
    "for i in range(len(plot_cols), len(axes)):\n",
    "    fig.delaxes(axes[i])\n",
    "\n",
    "plt.show()"
   ]
  }
 ],
 "metadata": {
  "kernelspec": {
   "display_name": "workspace",
   "language": "python",
   "name": "python3"
  },
  "language_info": {
   "codemirror_mode": {
    "name": "ipython",
    "version": 3
   },
   "file_extension": ".py",
   "mimetype": "text/x-python",
   "name": "python",
   "nbconvert_exporter": "python",
   "pygments_lexer": "ipython3",
   "version": "3.10.12"
  }
 },
 "nbformat": 4,
 "nbformat_minor": 2
}
