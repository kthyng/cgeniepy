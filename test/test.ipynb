{
 "cells": [
  {
   "cell_type": "code",
   "execution_count": null,
   "metadata": {},
   "outputs": [],
   "source": [
    "from cgeniepy.table import ScatterData\n",
    "import xarray as xr\n",
    "\n",
    "import numpy as np\n",
    "import pandas as pd\n",
    "import matplotlib.pyplot as plt\n",
    "import seaborn as sns\n",
    "plt.rcParams[\"font.family\"] = \"Helvetica\"\n",
    "\n",
    "x = ScatterData(\"./LGM_d13c_CLEAN.txt\", sep='\\t', header=0)\n",
    "x.data.columns = ['lon', 'lat', 'depth', 'd13C', 'core']\n",
    "#x.set_index(['lat'])\n",
    "x.data\n",
    "## convert data frame to float expce the core column\n",
    "#import pandas as pd\n",
    "\n",
    "#x.data = x.data.apply(pd.to_numeric, errors='coerce')\n",
    "#x.drop_na(subset=['d13C'])\n",
    "#x.detect_basin()"
   ]
  },
  {
   "cell_type": "code",
   "execution_count": null,
   "metadata": {},
   "outputs": [],
   "source": [
    "isinstance(x.data.index, pd.core.indexes.range.RangeIndex)"
   ]
  },
  {
   "cell_type": "code",
   "execution_count": null,
   "metadata": {},
   "outputs": [],
   "source": [
    "import numpy as np\n",
    "x = np.random.rand(36, 36)\n",
    "y = x + np.random.rand(36, 36) * 0.5\n",
    "\n",
    "## calculate skill score\n",
    "from cgeniepy.skill import ArrComparison\n",
    "ms = ArrComparison(x, y)\n",
    "ms.plot()"
   ]
  },
  {
   "cell_type": "code",
   "execution_count": null,
   "metadata": {},
   "outputs": [],
   "source": [
    "x = ScatterData(\"/Users/yingrui/Science/lgm_foram_census/tidy/forcens_fg_a_tidy.csv\")\n",
    "x.set_index(['Latitude','Longitude'])"
   ]
  },
  {
   "cell_type": "code",
   "execution_count": null,
   "metadata": {},
   "outputs": [],
   "source": []
  },
  {
   "cell_type": "code",
   "execution_count": null,
   "metadata": {},
   "outputs": [],
   "source": []
  },
  {
   "cell_type": "code",
   "execution_count": null,
   "metadata": {},
   "outputs": [],
   "source": [
    "x.index"
   ]
  },
  {
   "cell_type": "code",
   "execution_count": null,
   "metadata": {},
   "outputs": [],
   "source": [
    "from cgeniepy.model import GenieModel\n",
    "import matplotlib.pyplot as plt\n",
    "from cartopy import crs as ccrs\n",
    "\n",
    "model1 = GenieModel(\"/Users/yingrui/Science/lgm_foram_niche/model/muffin.CBE.worlg4.BASESFeTDTL.SPIN\", gemflag='biogem')\n",
    "model2 = GenieModel(\"/Users/yingrui/Downloads/EXP.R07sm_Corg2\", gemflag='biogem')\n",
    "\n",
    "sst1 = model1.get_var(\"ocn_sur_temp\").isel(time=-1)\n",
    "sst2 = model2.get_var(\"ocn_sur_temp\").isel(time=-1)\n",
    "\n",
    "fig, ax = plt.subplots(1, 2, figsize=(10, 5), subplot_kw={'projection': ccrs.Robinson(central_longitude=-80)})\n",
    "\n",
    "## use differnet colormap\n",
    "sst1.aes_dict['pcolormesh_kwargs']['cmap'] = plt.cm.Spectral_r\n",
    "sst1.aes_dict['pcolormesh_kwargs']['vmax'] = 35\n",
    "sst1.aes_dict['pcolormesh_kwargs']['vmin'] = 0\n",
    "\n",
    "sst2.aes_dict['pcolormesh_kwargs']['cmap'] = plt.cm.Spectral_r\n",
    "sst2.aes_dict['pcolormesh_kwargs']['vmax'] = 35\n",
    "sst2.aes_dict['pcolormesh_kwargs']['vmin'] = 0\n",
    "\n",
    "sst1.aes_dict['colorbar_label_kwargs']['label'] = \"Sea surface temperature (°C)\"\n",
    "sst2.aes_dict['colorbar_label_kwargs']['label'] = \"Sea surface temperature (°C)\"\n",
    "\n",
    "sst1.plot(ax=ax[0], colorbar=True, outline=True)\n",
    "sst2.plot(ax=ax[1], colorbar=True, outline=True)\n",
    "\n",
    "ax[0].set_title(\"Modern (0 Ma)\")\n",
    "ax[1].set_title(\"PETM (55 Ma)\")\n",
    "\n",
    "## save \n",
    "plt.savefig(\"fig1.png\", dpi=300, bbox_inches=\"tight\")"
   ]
  },
  {
   "cell_type": "code",
   "execution_count": 1,
   "metadata": {},
   "outputs": [
    {
     "name": "stderr",
     "output_type": "stream",
     "text": [
      "<frozen importlib._bootstrap>:241: RuntimeWarning: scipy._lib.messagestream.MessageStream size changed, may indicate binary incompatibility. Expected 56 from C header, got 64 from PyObject\n"
     ]
    }
   ],
   "source": [
    "from cgeniepy.model import GenieModel\n",
    "\n",
    "pi_model = GenieModel(\"/Users/yingrui/Science/lgm_foram_niche/model/muffin.CBE.worlg4.BASESFeTDTL.SPIN\", gemflag='biogem')\n",
    "\n",
    "x = pi_model.get_var(\"ocn_sur_temp\").isel(time=-1).to_ScatterData()"
   ]
  },
  {
   "cell_type": "code",
   "execution_count": null,
   "metadata": {},
   "outputs": [],
   "source": [
    "sst2 = model2.get_var(\"ocn_sur_temp\").isel(time=-1)\n",
    "sst2.array"
   ]
  },
  {
   "cell_type": "code",
   "execution_count": null,
   "metadata": {},
   "outputs": [],
   "source": [
    "sst1.array.attrs['units'] = '°C'"
   ]
  },
  {
   "cell_type": "code",
   "execution_count": null,
   "metadata": {},
   "outputs": [],
   "source": [
    "from cgeniepy.model import GenieModel\n",
    "\n",
    "test_model = GenieModel(\"/Users/yingrui/Science/lgm_bcp/model/muffin.CB.worlg4.BASESFeTDTL.SPIN\", gemflag=\"biogem\")\n",
    "test_array = test_model.get_var(\"ocn_temp\")\n",
    "\n",
    "## search for the nearest point\n",
    "point = [0,0,30]\n",
    "\n",
    "test_array.search_grid(point, ignore_na=True)"
   ]
  },
  {
   "cell_type": "code",
   "execution_count": null,
   "metadata": {},
   "outputs": [],
   "source": [
    "from cgeniepy.model import GenieModel\n",
    "import cmocean as cmo\n",
    "import matplotlib.pyplot as plt\n",
    "\n",
    "model = GenieModel(\"/Users/yingrui/Science/lgm_foram_niche/model/muffin.CBE.worlg4.BASESFeTDTL.SPIN\")\n",
    "\n",
    "fig, ax = plt.subplots(2,1, figsize=(6, 6))\n",
    "\n",
    "atlatic_po4 = model.get_var('ocn_PO4').isel(time=-1).mask_basin(base='worjh2',basin='Atlantic', subbasin='').mean(dim='lon')\n",
    "\n",
    "atlatic_po4.aes_dict['pcolormesh_kwargs']['cmap'] = cmo.cm.thermal\n",
    "atlatic_po4.aes_dict['contour_kwargs']['levels'] = 12\n",
    "\n",
    "atlatic_po4.plot(ax=ax[0], colorbar=True, contour=True)\n",
    "atlatic_po4.interpolate().plot(ax=ax[1], colorbar=True, contour=True)\n",
    "\n",
    "ax[0].set_title(\"Original\")\n",
    "ax[1].set_title(\"Interpolated\")\n",
    "\n",
    "fig.tight_layout()\n",
    "plt.savefig(\"../publication/fig2.png\", dpi=300, bbox_inches=\"tight\")"
   ]
  },
  {
   "cell_type": "code",
   "execution_count": null,
   "metadata": {},
   "outputs": [],
   "source": [
    "from cgeniepy.model import GenieModel\n",
    "import numpy as np\n",
    "\n",
    "pi_model = GenieModel(\"/Users/yingrui/Science/lgm_bcp/model/muffin.CB.worlg4.BASESFeTDTL.SPIN\", gemflag='biogem')\n",
    "\n",
    "o2 = pi_model.get_var('ocn_temp').isel(time=-1) ##mol/kg\n",
    "ocn_vol = pi_model.grid_volume().isel(time=-1) ##m3\n",
    "\n",
    "print(\"average of o2 weighted by ocean grid volume\", o2.weighted_average(ocn_vol.array.values))\n",
    "\n",
    "## unweighted average of o2\n",
    "print(\"unweighted average of o2\", o2.array.mean().values)"
   ]
  },
  {
   "cell_type": "code",
   "execution_count": null,
   "metadata": {},
   "outputs": [],
   "source": [
    "from cgeniepy.model import GenieModel\n",
    "\n",
    "pi_model = GenieModel(\"/Users/yingrui/Science/lgm_foram_niche/model/muffin.CBE.worlg4.BASESFeTDTL.SPIN\", gemflag='biogem')\n",
    "\n",
    "# Example usage\n",
    "filename = \"biogem_year_09999_500_diag_GLOBAL_AVERAGE.res\"\n",
    "pi_model.get_diag_avg(filename)"
   ]
  },
  {
   "cell_type": "code",
   "execution_count": null,
   "metadata": {},
   "outputs": [],
   "source": [
    "from cgeniepy.model import GenieModel\n",
    "\n",
    "pi_model = GenieModel(\"/Users/yingrui/Science/lgm_foram_niche/model/muffin.CBE.worlg4.BASESFeTDTL.historical\", gemflag='biogem')\n",
    "\n",
    "df = pi_model.get_ts(\"ocn_PO4\")"
   ]
  },
  {
   "cell_type": "code",
   "execution_count": null,
   "metadata": {},
   "outputs": [],
   "source": [
    "# Set time as index\n",
    "df.set_index('time (yr)', inplace=True)\n",
    "\n",
    "# Get columns to plot (exclude time and model)\n",
    "plot_cols = [col for col in df.columns if col not in ['time (yr)', 'model']]\n",
    "\n",
    "# Create a figure and a grid of subplots\n",
    "num_rows = 3  # Number of rows in the grid\n",
    "num_cols = (len(plot_cols) + num_rows - 1) // num_rows  # Number of columns in the grid\n",
    "fig, axes = plt.subplots(nrows=num_rows, ncols=num_cols, figsize=(4 * num_cols, 3 * num_rows), sharex=True)\n",
    "\n",
    "# Flatten the axes array for easier iteration\n",
    "axes = axes.flatten()\n",
    "\n",
    "# Enumerate through columns to plot and plot on subplots\n",
    "for i, col in enumerate(plot_cols):\n",
    "    axes[i].plot(df.index, df[col])\n",
    "    axes[i].set_title(col)  # Add title to each subplot\n",
    "\n",
    "# Hide x-axis label on all subplots except the last row\n",
    "for ax in axes[:-num_cols]:\n",
    "    ax.set_xlabel('')\n",
    "\n",
    "# Common x-axis label for the bottom row of subplots\n",
    "for ax in axes[-num_cols:]:\n",
    "    ax.set_xlabel('Time')\n",
    "\n",
    "# Adjust layout (optional)\n",
    "plt.tight_layout()\n",
    "\n",
    "# Remove any unused subplots\n",
    "for i in range(len(plot_cols), len(axes)):\n",
    "    fig.delaxes(axes[i])\n",
    "\n",
    "plt.show()"
   ]
  }
 ],
 "metadata": {
  "kernelspec": {
   "display_name": "workspace",
   "language": "python",
   "name": "python3"
  },
  "language_info": {
   "codemirror_mode": {
    "name": "ipython",
    "version": 3
   },
   "file_extension": ".py",
   "mimetype": "text/x-python",
   "name": "python",
   "nbconvert_exporter": "python",
   "pygments_lexer": "ipython3",
   "version": "3.10.12"
  }
 },
 "nbformat": 4,
 "nbformat_minor": 2
}
