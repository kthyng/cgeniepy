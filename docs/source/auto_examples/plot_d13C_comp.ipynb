{
  "cells": [
    {
      "cell_type": "markdown",
      "metadata": {},
      "source": [
        "\n# Search the nearest grid point for a given location\n\nThis example is a combination of ScatterData and GriddedData to search the nearest grid point for a given location. I use CESM model output and LGM d13C data from Peterson et al. 2014 (https://agupubs.onlinelibrary.wiley.com/doi/full/10.1002/2013PA002552) as an example.\n"
      ]
    },
    {
      "cell_type": "code",
      "execution_count": null,
      "metadata": {
        "collapsed": false
      },
      "outputs": [],
      "source": [
        "from cgeniepy.table import ScatterData\nfrom cgeniepy.array import GriddedData\nimport xarray as xr\n\ncesm_lgm = xr.load_dataset(\"/Users/yingrui/cgeniepy/examples/CESM_LGM_var_regrid.nc\")\nproxy_d13C = ScatterData(\"~/Science/lgm_bcp/data/LGM_d13c_CLEAN.txt\", delimiter=\"\\t\", header=None)\nproxy_d13C.data.columns = [\"Longitude\", \"Latitude\", \"Depth\", \"d13C\",\"Event\"]\nproxy_d13C.set_index([\"Latitude\", \"Longitude\", \"Depth\"])\n\nmodel_data = []\ncesm_13C = GriddedData(cesm_lgm['CISO_DIC_d13C'], mutable=False, attrs=cesm_lgm['CISO_DIC_d13C'].attrs)\ncesm_13C_last = cesm_13C.isel(time=-1)\n\nfor i in proxy_d13C.data.index:\n    lat, lon, depth = i\n    depth = depth * 100\n    pos = (depth, lat, lon)\n    \n    data = cesm_13C_last.search_point(pos, ignore_na=True)\n\n    model_data.append(data)\n\n## add the model data to the dataframe\nproxy_d13C.data[\"model_d13C\"] = model_data\n\nprint(proxy_d13C.compare(\"d13C\", \"model_d13C\").pearson_r())\nproxy_d13C.compare(\"d13C\", \"model_d13C\").plot()"
      ]
    }
  ],
  "metadata": {
    "kernelspec": {
      "display_name": "Python 3",
      "language": "python",
      "name": "python3"
    },
    "language_info": {
      "codemirror_mode": {
        "name": "ipython",
        "version": 3
      },
      "file_extension": ".py",
      "mimetype": "text/x-python",
      "name": "python",
      "nbconvert_exporter": "python",
      "pygments_lexer": "ipython3",
      "version": "3.11.6"
    }
  },
  "nbformat": 4,
  "nbformat_minor": 0
}