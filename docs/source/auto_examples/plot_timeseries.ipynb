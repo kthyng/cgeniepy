{
  "cells": [
    {
      "cell_type": "markdown",
      "metadata": {},
      "source": [
        "\n# Plot Time Series\n\nThis example shows how to read in and plot time series data\n"
      ]
    },
    {
      "cell_type": "code",
      "execution_count": null,
      "metadata": {
        "collapsed": false
      },
      "outputs": [],
      "source": [
        "from cgeniepy.model import GenieModel\nimport matplotlib.pyplot as plt\n\nmodel = GenieModel(\"/Users/yingrui/Science/lgm_foram_niche/model/muffin.CBE.worlg4.BASESFeTDTL.historical\")\nfig, ax = plt.subplots(1,2,figsize=(10,5))\n\nmodel.get_ts(\"ocn_temp\").plot(x='time (yr)',y='temperature (C)',ax=ax[0])\nmodel.get_ts(\"ocn_O2\").plot(x='time (yr)',y='global total O2 (mol)',ax=ax[1])\n\nax[0].set_title(\"Ocean mean temperature\")\nax[1].set_title(\"Global total ocean oxygen\")\nplt.show()"
      ]
    }
  ],
  "metadata": {
    "kernelspec": {
      "display_name": "Python 3",
      "language": "python",
      "name": "python3"
    },
    "language_info": {
      "codemirror_mode": {
        "name": "ipython",
        "version": 3
      },
      "file_extension": ".py",
      "mimetype": "text/x-python",
      "name": "python",
      "nbconvert_exporter": "python",
      "pygments_lexer": "ipython3",
      "version": "3.10.12"
    }
  },
  "nbformat": 4,
  "nbformat_minor": 0
}