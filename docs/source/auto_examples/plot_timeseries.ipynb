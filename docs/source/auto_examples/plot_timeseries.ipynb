{
  "cells": [
    {
      "cell_type": "markdown",
      "metadata": {},
      "source": [
        "\n# Extract and Plot cGENIE Time Series data\n\nThis example shows how to read in and plot cGENIE time series data.\n"
      ]
    },
    {
      "cell_type": "code",
      "execution_count": null,
      "metadata": {
        "collapsed": false
      },
      "outputs": [],
      "source": [
        "import cgeniepy\nimport matplotlib.pyplot as plt\nfrom cgeniepy.table import ScatterData\n\n\n## read in the model\nmodel = cgeniepy.sample_model()\ntemp = model.get_ts(\"ocn_temp\")\no2 = model.get_ts(\"ocn_O2\")\n\n## merge both and convert to ScatterData format\nts_data = ScatterData(temp.merge(o2, on=\"time (yr)\"))\nts_data.set_index(\"time (yr)\")\nfig, axs = plt.subplots(2, 1)\nts_data.plot(var=\"temperature (C)\", ax=axs[0], kind='line')\nts_data.plot(var=\"surface O2 (mol kg-1)\", ax=axs[1], kind='line')"
      ]
    }
  ],
  "metadata": {
    "kernelspec": {
      "display_name": "Python 3",
      "language": "python",
      "name": "python3"
    },
    "language_info": {
      "codemirror_mode": {
        "name": "ipython",
        "version": 3
      },
      "file_extension": ".py",
      "mimetype": "text/x-python",
      "name": "python",
      "nbconvert_exporter": "python",
      "pygments_lexer": "ipython3",
      "version": "3.12.5"
    }
  },
  "nbformat": 4,
  "nbformat_minor": 0
}