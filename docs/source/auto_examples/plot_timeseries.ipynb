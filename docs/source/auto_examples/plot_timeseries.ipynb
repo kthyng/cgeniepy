{
  "cells": [
    {
      "cell_type": "markdown",
      "metadata": {},
      "source": [
        "\n# Plot Time Series\n\nThis example shows how to read in and plot time series data\n"
      ]
    },
    {
      "cell_type": "code",
      "execution_count": null,
      "metadata": {
        "collapsed": false
      },
      "outputs": [],
      "source": [
        "from cgeniepy.model import GenieModel\nimport seaborn as sns\nimport matplotlib.pyplot as plt\n\nmodel = GenieModel(\"/Users/yingrui/Science/lgm_foram_niche/model/muffin.CBE.worlg4.BASESFeTDTL.historical\")\nfig, axs = plt.subplots(1,2,figsize=(8, 3), tight_layout=True)\n\ntemp = model.get_ts(\"ocn_temp\")\no2 = model.get_ts(\"ocn_O2\")\n\n## merge both\nmerged = temp.merge(o2, on=\"time (yr)\")\n\n## use seaborn to plot\nsns.set_theme(context='notebook', style='ticks', palette='deep')\nsns.lineplot(data=merged, x=\"time (yr)\", y=\"temperature (C)\", ax=axs[0])\nsns.lineplot(data=merged, x=\"time (yr)\", y=\"global mean O2 (mol kg-1)\", ax=axs[1])\nsns.despine()"
      ]
    }
  ],
  "metadata": {
    "kernelspec": {
      "display_name": "Python 3",
      "language": "python",
      "name": "python3"
    },
    "language_info": {
      "codemirror_mode": {
        "name": "ipython",
        "version": 3
      },
      "file_extension": ".py",
      "mimetype": "text/x-python",
      "name": "python",
      "nbconvert_exporter": "python",
      "pygments_lexer": "ipython3",
      "version": "3.10.12"
    }
  },
  "nbformat": 4,
  "nbformat_minor": 0
}