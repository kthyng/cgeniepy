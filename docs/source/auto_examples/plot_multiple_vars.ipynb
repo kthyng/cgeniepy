{
  "cells": [
    {
      "cell_type": "markdown",
      "metadata": {},
      "source": [
        "\n# Plot multiple variables\n\nThis example shows how to plot multiple variables from a GenieModel object. I use a modern model run as an example and plot the surface temperature, PO4, Fe, and O2.\n"
      ]
    },
    {
      "cell_type": "code",
      "execution_count": null,
      "metadata": {
        "collapsed": false
      },
      "outputs": [],
      "source": [
        "## many variables\nimport matplotlib.pyplot as plt\nimport cartopy.crs as ccrs\nfrom cgeniepy.model import GenieModel\n\nfig, axs = plt.subplots(2, 2, figsize=(10, 8), subplot_kw={'projection': ccrs.PlateCarree()})\n\npi_model = GenieModel(\"/Users/yingrui/Science/lgm_foram_niche/model/muffin.CBE.worlg4.BASESFeTDTL.SPIN\", gemflag='biogem')\n\nvariable = ['ocn_sur_temp', 'ocn_sur_PO4', 'ocn_sur_TDFe', 'ocn_sur_O2']\n\nfor i in range(4):\n    pi_model.get_var(variable[i]).isel(time=-1).plot(ax=axs.flatten()[i],colorbar=True, outline=True, contourf=True)"
      ]
    }
  ],
  "metadata": {
    "kernelspec": {
      "display_name": "Python 3",
      "language": "python",
      "name": "python3"
    },
    "language_info": {
      "codemirror_mode": {
        "name": "ipython",
        "version": 3
      },
      "file_extension": ".py",
      "mimetype": "text/x-python",
      "name": "python",
      "nbconvert_exporter": "python",
      "pygments_lexer": "ipython3",
      "version": "3.11.6"
    }
  },
  "nbformat": 4,
  "nbformat_minor": 0
}