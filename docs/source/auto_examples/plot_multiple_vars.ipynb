{
  "cells": [
    {
      "cell_type": "markdown",
      "metadata": {},
      "source": [
        "\n# Plot multiple variables\n\nThis example shows how to plot multiple variables from a GenieModel object. I use a modern model run as an example and plot the surface temperature, PO4, Fe, and O2.\n\nThe following features are particularly demonstrated:\n\n#. Customizing the plot projection with cartopy\n\n#. Plotting multiple variables in one figure\n\n#. Controlling the elements in cgeniepy.GriddedDataVis object\n\n#. Using CommunityPalette to get a pretty color palette\n"
      ]
    },
    {
      "cell_type": "code",
      "execution_count": null,
      "metadata": {
        "collapsed": false
      },
      "outputs": [],
      "source": [
        "import matplotlib.pyplot as plt\nimport cartopy.crs as ccrs\nfrom cgeniepy.model import GenieModel\nfrom cgeniepy.plot import CommunityPalette\n\nfig, axs = plt.subplots(2, 2, figsize=(10, 8), subplot_kw={'projection': ccrs.PlateCarree()})\n\npi_model = GenieModel(\"/Users/yingrui/Science/lgm_foram_niche/model/muffin.CBE.worlg4.BASESFeTDTL.SPIN\", gemflag='biogem')\n\nvariable = ['ocn_sur_temp', 'bio_export_POC', 'ocn_sur_PO4','ocn_sur_O2']\ncmap = ['ocean_temp', 'tol_rainbow', 'WtBuGnYlRd','kovesi_rainbow']\n\nfor i in range(4):\n    data = pi_model.get_var(variable[i]).isel(time=-1).to_GriddedDataVis()\n    data.aes_dict['pcolormesh_kwargs']['cmap'] = CommunityPalette(cmap[i]).colormap\n    data.aes_dict['contourf_kwargs']['cmap'] = CommunityPalette(cmap[i]).colormap    \n\n    data.aes_dict['facecolor_kwargs']['c'] = 'white'\n    data.plot(ax=axs.flatten()[i],colorbar=True, outline=True, gridline=True, contourf=True)"
      ]
    }
  ],
  "metadata": {
    "kernelspec": {
      "display_name": "Python 3",
      "language": "python",
      "name": "python3"
    },
    "language_info": {
      "codemirror_mode": {
        "name": "ipython",
        "version": 3
      },
      "file_extension": ".py",
      "mimetype": "text/x-python",
      "name": "python",
      "nbconvert_exporter": "python",
      "pygments_lexer": "ipython3",
      "version": "3.10.12"
    }
  },
  "nbformat": 4,
  "nbformat_minor": 0
}