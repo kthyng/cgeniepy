{
  "cells": [
    {
      "cell_type": "markdown",
      "metadata": {},
      "source": [
        "\n# Calculate average\n\nThis example shows how to calculate weighted or unweighted average of a variable\n"
      ]
    },
    {
      "cell_type": "code",
      "execution_count": null,
      "metadata": {
        "collapsed": false
      },
      "outputs": [],
      "source": [
        "from cgeniepy.model import GenieModel\nimport numpy as np\n\npi_model = GenieModel(\"/Users/yingrui/Science/lgm_bcp/model/muffin.CB.worlg4.BASESFeTDTL.SPIN\", gemflag='biogem')\n\no2 = pi_model.get_var('ocn_O2').isel(time=-1) ##mol/kg\nocn_vol = pi_model.grid_volume().isel(time=-1) ##m3\n\nprint(\"average of o2 weighted by ocean grid volume\", o2.weighted_average(ocn_vol.array.values))\n\n## unweighted average of o2\nprint(\"unweighted average of o2\", o2.array.mean().values)"
      ]
    }
  ],
  "metadata": {
    "kernelspec": {
      "display_name": "Python 3",
      "language": "python",
      "name": "python3"
    },
    "language_info": {
      "codemirror_mode": {
        "name": "ipython",
        "version": 3
      },
      "file_extension": ".py",
      "mimetype": "text/x-python",
      "name": "python",
      "nbconvert_exporter": "python",
      "pygments_lexer": "ipython3",
      "version": "3.11.6"
    }
  },
  "nbformat": 4,
  "nbformat_minor": 0
}