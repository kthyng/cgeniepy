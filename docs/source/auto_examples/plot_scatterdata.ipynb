{
  "cells": [
    {
      "cell_type": "markdown",
      "metadata": {},
      "source": [
        "\n# Plot the 1D ScatterData\n\nThis example shows how to plot the 1D ScatterData object. I use a CO2 data file from the Antarctic EDC ice core (https://doi.pangaea.de/10.1594/PANGAEA.472488) as an example.\n\nThe following features are used:\n\n#. Load the data (which just download from Pangaea without any modification)\n\n#. Plot the raw data\n\n#. Plot the interpolated data (based on cubic spline interpolation)\n\n#. Plot the rolling averaged data\n"
      ]
    },
    {
      "cell_type": "code",
      "execution_count": null,
      "metadata": {
        "collapsed": false
      },
      "outputs": [],
      "source": [
        "from cgeniepy.table import ScatterData\nimport matplotlib.pyplot as plt\n\n# Load data\nurl = \"https://doi.pangaea.de/10.1594/PANGAEA.472488\"\nedc_co2 = ScatterData(url)\nedc_co2.set_index(['Gas age'])\n\nfig = plt.figure(figsize=(5, 4))\nax = fig.add_subplot(111)\n\n# Plot the raw data\nedc_co2.plot(var='CO2', ax=ax, \n        label='Raw Data', kind='scatter',\n        edgecolor='black', facecolor='none', marker='o')\n\n# # Plot the interpolated data (based on cubic spline interpolation)\ninterpolated_data = edc_co2.interpolate(var='CO2')\ninterpolated_data = ScatterData(interpolated_data)\ninterpolated_data.plot(var='CO2', ax=ax, label='Interpolated', kind='line')\n\nax.legend()\nplt.show()"
      ]
    }
  ],
  "metadata": {
    "kernelspec": {
      "display_name": "Python 3",
      "language": "python",
      "name": "python3"
    },
    "language_info": {
      "codemirror_mode": {
        "name": "ipython",
        "version": 3
      },
      "file_extension": ".py",
      "mimetype": "text/x-python",
      "name": "python",
      "nbconvert_exporter": "python",
      "pygments_lexer": "ipython3",
      "version": "3.12.5"
    }
  },
  "nbformat": 4,
  "nbformat_minor": 0
}