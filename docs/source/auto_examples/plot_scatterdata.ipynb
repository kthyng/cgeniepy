{
  "cells": [
    {
      "cell_type": "markdown",
      "metadata": {},
      "source": [
        "\n# Plot the ScatterData\n\nThis example shows how to plot the ScatterData object. I use a data file from the EDC ice core (https://doi.pangaea.de/10.1594/PANGAEA.472488) as an example.\n"
      ]
    },
    {
      "cell_type": "code",
      "execution_count": null,
      "metadata": {
        "collapsed": false
      },
      "outputs": [],
      "source": [
        "from cgeniepy.table import ScatterData\ndata= ScatterData(\"/Users/yingrui/cgeniepy/test/EDC_CO2.tab\", sep='\\t')\ndata.set_index(['Age [ka BP]'])\ndata.to_ScatterDataVis().plot(var='CO2 [ppmv]')"
      ]
    }
  ],
  "metadata": {
    "kernelspec": {
      "display_name": "Python 3",
      "language": "python",
      "name": "python3"
    },
    "language_info": {
      "codemirror_mode": {
        "name": "ipython",
        "version": 3
      },
      "file_extension": ".py",
      "mimetype": "text/x-python",
      "name": "python",
      "nbconvert_exporter": "python",
      "pygments_lexer": "ipython3",
      "version": "3.11.6"
    }
  },
  "nbformat": 4,
  "nbformat_minor": 0
}