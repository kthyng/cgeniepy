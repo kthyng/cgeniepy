{
  "cells": [
    {
      "cell_type": "markdown",
      "metadata": {},
      "source": [
        "\n# Plot the 1D ScatterData\n\nThis example shows how to plot the 1D ScatterData object. I use a CO2 data file from the Antarctic EDC ice core (https://doi.pangaea.de/10.1594/PANGAEA.472488) as an example.\n"
      ]
    },
    {
      "cell_type": "code",
      "execution_count": null,
      "metadata": {
        "collapsed": false
      },
      "outputs": [],
      "source": [
        "from cgeniepy.table import ScatterData\nimport matplotlib.pyplot as plt\n\n# Load data\nedc_co2 = ScatterData(\"/Users/yingrui/cgeniepy/src/data/EDC_CO2.tab\", sep='\\t')\nedc_co2.set_index(['Age [ka BP]'])\n\n# Create subplots\nfig, ax = plt.subplots()\n\n# Plot the raw data\nedc_co2.to_ScatterDataVis().plot(var='CO2 [ppmv]', ax=ax, label='Raw Data', edgecolor='black', facecolor='none', marker='o')\n# Plot the interpolated data (based on cubic spline interpolation)\ninterpolated_data = edc_co2.interpolate(var='CO2 [ppmv]').to_dataframe()\ninterpolated_data.plot(ax=ax, x='Age [ka BP]', y='interpolated_values', label='Interpolated', linewidth=2)\n\n# Use rolling mean to smooth the data\nsmoothed_data = edc_co2.rolling(window=2).mean()\nsmoothed_data['CO2 [ppmv]'].plot(ax=ax, label='2pt Rolling Mean', linewidth=2)\n\nax.legend()\nax.grid(True)\nax.minorticks_on()\n\nplt.show()"
      ]
    }
  ],
  "metadata": {
    "kernelspec": {
      "display_name": "Python 3",
      "language": "python",
      "name": "python3"
    },
    "language_info": {
      "codemirror_mode": {
        "name": "ipython",
        "version": 3
      },
      "file_extension": ".py",
      "mimetype": "text/x-python",
      "name": "python",
      "nbconvert_exporter": "python",
      "pygments_lexer": "ipython3",
      "version": "3.10.12"
    }
  },
  "nbformat": 4,
  "nbformat_minor": 0
}