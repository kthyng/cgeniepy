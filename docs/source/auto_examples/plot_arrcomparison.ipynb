{
  "cells": [
    {
      "cell_type": "markdown",
      "metadata": {},
      "source": [
        "\n# Plot Comparison Between Arrays\n\nThis example shows how to use the ArrComparison class to compare two arrays and plot the comparison.\n"
      ]
    },
    {
      "cell_type": "code",
      "execution_count": null,
      "metadata": {
        "collapsed": false
      },
      "outputs": [],
      "source": [
        "from cgeniepy.skill import ArrComparison\nimport numpy as np\n\nnp.random.seed(1923)\nx = np.random.rand(36, 36)\ny = x + np.random.rand(36, 36)\n\n## calculate skill score\nac = ArrComparison(x, y)\nprint(\"Pearson coefficient:\", ac.pearson_r())\nac.plot()"
      ]
    }
  ],
  "metadata": {
    "kernelspec": {
      "display_name": "Python 3",
      "language": "python",
      "name": "python3"
    },
    "language_info": {
      "codemirror_mode": {
        "name": "ipython",
        "version": 3
      },
      "file_extension": ".py",
      "mimetype": "text/x-python",
      "name": "python",
      "nbconvert_exporter": "python",
      "pygments_lexer": "ipython3",
      "version": "3.10.12"
    }
  },
  "nbformat": 4,
  "nbformat_minor": 0
}