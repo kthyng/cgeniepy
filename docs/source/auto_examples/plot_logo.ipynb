{
  "cells": [
    {
      "cell_type": "markdown",
      "metadata": {},
      "source": [
        "\n# Customise the 2D map projection\n\nThis example shows how to customise the 2D map including the projection, the color map, which is used as the logo of this package.\n"
      ]
    },
    {
      "cell_type": "code",
      "execution_count": null,
      "metadata": {
        "collapsed": false
      },
      "outputs": [],
      "source": [
        "from cgeniepy.model import GenieModel\nimport cartopy.crs as ccrs\nimport matplotlib.pyplot as plt\n\n## Read in the model\nmodel = GenieModel(\"/Users/yingrui/Science/lgm_foram_niche/model/muffin.CBE.worlg4.BASESFeTDTL.SPIN\")\nsst = model.get_var(\"ocn_sur_temp\").isel(time=-1)\n\n## use the Orthographic projection\n## a full list of projections can be found at\n## https://scitools.org.uk/cartopy/docs/latest/reference/projections.html#cartopy-projections\nfig, ax = plt.subplots(subplot_kw={'projection': ccrs.Orthographic()})\n\n## set the color map\nsst.aes_dict['pcolormesh_kwargs']['cmap'] = plt.cm.inferno\nsst.plot(ax=ax, outline=True)\nplt.show()"
      ]
    }
  ],
  "metadata": {
    "kernelspec": {
      "display_name": "Python 3",
      "language": "python",
      "name": "python3"
    },
    "language_info": {
      "codemirror_mode": {
        "name": "ipython",
        "version": 3
      },
      "file_extension": ".py",
      "mimetype": "text/x-python",
      "name": "python",
      "nbconvert_exporter": "python",
      "pygments_lexer": "ipython3",
      "version": "3.11.6"
    }
  },
  "nbformat": 4,
  "nbformat_minor": 0
}