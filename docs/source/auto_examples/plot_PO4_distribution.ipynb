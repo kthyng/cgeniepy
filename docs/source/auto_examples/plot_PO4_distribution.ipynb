{
  "cells": [
    {
      "cell_type": "markdown",
      "metadata": {},
      "source": [
        "\n# Plot 2D transect of tracers in each basin\n\nThis example plots the modelled PO4 distribution in cGENIE.\n\nThe following features in the package are used:\n\n#. Access data through `cgeniepy.model` module\n\n#. A basin-mask operation\n\n#. A linear interpolation\n\n#. Get additional color palette (mirrors the one in ODV)\n\n#. Customise the plotting details\n"
      ]
    },
    {
      "cell_type": "code",
      "execution_count": null,
      "metadata": {
        "collapsed": false
      },
      "outputs": [],
      "source": [
        "from cgeniepy.model import GenieModel\nfrom cgeniepy.plot import CommunityPalette\nimport matplotlib.pyplot as plt\n\nmodel = GenieModel(\"/Users/yingrui/Science/lgm_foram_niche/model/muffin.CBE.worlg4.BASESFeTDTL.SPIN\")\nocn_po4 = model.get_var(\"ocn_PO4\").isel(time=-1)\n\nfig, axs=plt.subplots(nrows=1, ncols=3, figsize=(15, 3), tight_layout=True)\n\nbasins = ['Atlantic', 'Pacific', 'Indian']\n\nodv_cmap = CommunityPalette().get_palette('ODV', reverse=True)\n\nfor i in range(3):\n    basin_data = model.get_var('ocn_PO4').isel(time=-1).mask_basin(base='worjh2',basin=basins[i], subbasin='')\n    basin_data.data.values = basin_data.data.values * 1E6\n    basin_data_interp = basin_data.mean(dim='lon').interpolate().to_GriddedDataVis()\n    basin_data_interp.aes_dict['pcolormesh_kwargs']['cmap'] = odv_cmap\n    basin_data_interp.plot(ax=axs[i], contour=True)\n    axs[i].title.set_text(basins[i])\n\nplt.show()"
      ]
    }
  ],
  "metadata": {
    "kernelspec": {
      "display_name": "Python 3",
      "language": "python",
      "name": "python3"
    },
    "language_info": {
      "codemirror_mode": {
        "name": "ipython",
        "version": 3
      },
      "file_extension": ".py",
      "mimetype": "text/x-python",
      "name": "python",
      "nbconvert_exporter": "python",
      "pygments_lexer": "ipython3",
      "version": "3.10.12"
    }
  },
  "nbformat": 4,
  "nbformat_minor": 0
}