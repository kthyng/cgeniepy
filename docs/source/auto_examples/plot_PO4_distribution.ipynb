{
  "cells": [
    {
      "cell_type": "markdown",
      "metadata": {},
      "source": [
        "\n# Plot 2D transect of tracers in each basin\n\nThis example shows how to plot the PO4 distribution in each basin.\n"
      ]
    },
    {
      "cell_type": "code",
      "execution_count": null,
      "metadata": {
        "collapsed": false
      },
      "outputs": [],
      "source": [
        "from cgeniepy.model import GenieModel\nimport matplotlib.pyplot as plt\n\nmodel = GenieModel(\"/Users/yingrui/Science/lgm_foram_niche/model/muffin.CBE.worlg4.BASESFeTDTL.SPIN\")\nocn_po4 = model.get_var(\"ocn_PO4\").isel(time=-1)\n\nfig, axs=plt.subplots(nrows=1, ncols=3, figsize=(15, 3), tight_layout=True)        \n\nbasins = ['Atlantic', 'Pacific', 'Indian']\n\nfor i in range(3):\n\tbasin_data = model.get_var('ocn_PO4').isel(time=-1).mask_basin(base='worjh2',basin=basins[i], subbasin='')\n\tbasin_data.data.values = basin_data.data.values * 1E6\n\tbasin_data.mean(dim='lon').interpolate().plot(ax=axs[i], contour=True)\n\taxs[i].title.set_text(basins[i])\n\nplt.show()"
      ]
    }
  ],
  "metadata": {
    "kernelspec": {
      "display_name": "Python 3",
      "language": "python",
      "name": "python3"
    },
    "language_info": {
      "codemirror_mode": {
        "name": "ipython",
        "version": 3
      },
      "file_extension": ".py",
      "mimetype": "text/x-python",
      "name": "python",
      "nbconvert_exporter": "python",
      "pygments_lexer": "ipython3",
      "version": "3.11.6"
    }
  },
  "nbformat": 4,
  "nbformat_minor": 0
}