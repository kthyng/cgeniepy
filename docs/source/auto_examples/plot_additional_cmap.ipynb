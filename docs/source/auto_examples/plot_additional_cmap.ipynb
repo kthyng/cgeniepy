{
  "cells": [
    {
      "cell_type": "markdown",
      "metadata": {},
      "source": [
        "\n# Additional cmap\n\nThis example shows the available color palettes in the `cgeniepy` package\n"
      ]
    },
    {
      "cell_type": "code",
      "execution_count": null,
      "metadata": {
        "collapsed": false
      },
      "outputs": [],
      "source": [
        "import numpy as np\nimport matplotlib.pyplot as plt\nfrom cgeniepy.plot import CommunityPalette\n\ndef plot_colormaps(cmaps):\n    ncols = 4\n    nrows = int(np.ceil(len(cmaps) / ncols))\n    fig, axes = plt.subplots(nrows, ncols, figsize=(15, nrows))\n\n    for i, cmap_name in enumerate(cmaps):\n        row = i // ncols\n        col = i % ncols\n        ax = axes[row, col] if nrows > 1 else axes[col]\n\n        # Create a gradient image using the colormap\n        gradient = np.linspace(0, 1, 256).reshape(1, -1)\n        ax.imshow(gradient, aspect='auto', cmap=CommunityPalette().get_palette(cmap_name))\n        ax.set_title(cmap_name, fontsize=14, fontweight='bold')\n        ax.axis('off')\n\n    ## remove the unused axes\n    for i in range(len(cmaps), ncols * nrows):\n        row = i // ncols\n        col = i % ncols\n        fig.delaxes(axes[row, col])\n        \n    plt.tight_layout()\n\n# List of colormaps from cgeniepy\ncmaps_list = CommunityPalette().avail_palettes()\nplot_colormaps(cmaps_list)"
      ]
    }
  ],
  "metadata": {
    "kernelspec": {
      "display_name": "Python 3",
      "language": "python",
      "name": "python3"
    },
    "language_info": {
      "codemirror_mode": {
        "name": "ipython",
        "version": 3
      },
      "file_extension": ".py",
      "mimetype": "text/x-python",
      "name": "python",
      "nbconvert_exporter": "python",
      "pygments_lexer": "ipython3",
      "version": "3.11.6"
    }
  },
  "nbformat": 4,
  "nbformat_minor": 0
}