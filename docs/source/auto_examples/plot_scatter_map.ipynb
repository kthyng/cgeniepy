{
  "cells": [
    {
      "cell_type": "markdown",
      "metadata": {},
      "source": [
        "\n# Plot the 2D ScatterData\n\nThis example shows how to plot the 2D ScatterData object. I use a LGM d13C data from Peterson et al. 2014 (https://agupubs.onlinelibrary.wiley.com/doi/full/10.1002/2013PA002552) as an example.\n"
      ]
    },
    {
      "cell_type": "code",
      "execution_count": null,
      "metadata": {
        "collapsed": false
      },
      "outputs": [],
      "source": [
        "from cgeniepy.table import ScatterData\nfrom cgeniepy.plot import CommunityPalette\nimport matplotlib.pyplot as plt\nimport subprocess\n\n## Download necessary files, you need to install zenodo_get first\n## by `pip install zenodo_get`, or, just download it from the link above\nsubprocess.call([\"zenodo_get\", \"10.5281/zenodo.13786013\", \"-o\", \"~/Downloads/\"])\n\nproxy_d13C = ScatterData(\"~/Downloads/LGM_d13c_CLEAN.txt\", delimiter=\"\\t\", header=None)\nproxy_d13C.data.columns = [\"Longitude\", \"Latitude\", \"Depth\", \"d13C\",\"Event\"]\nproxy_d13C.set_index([\"Latitude\", \"Longitude\"])\ncmap = CommunityPalette(\"BuDaRd18\").colormap\nproxy_d13C.plot(var='d13C', edgecolor='k', cmap=cmap)\n\nplt.show()"
      ]
    }
  ],
  "metadata": {
    "kernelspec": {
      "display_name": "Python 3",
      "language": "python",
      "name": "python3"
    },
    "language_info": {
      "codemirror_mode": {
        "name": "ipython",
        "version": 3
      },
      "file_extension": ".py",
      "mimetype": "text/x-python",
      "name": "python",
      "nbconvert_exporter": "python",
      "pygments_lexer": "ipython3",
      "version": "3.12.5"
    }
  },
  "nbformat": 4,
  "nbformat_minor": 0
}