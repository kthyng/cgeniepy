{
  "cells": [
    {
      "cell_type": "markdown",
      "metadata": {},
      "source": [
        "\n# Plot basin-specific data\n\nPlot the model variable for a spficic basin, here we use sea surface temperature in the Atlantic Ocean as an example.\n"
      ]
    },
    {
      "cell_type": "code",
      "execution_count": null,
      "metadata": {
        "collapsed": false
      },
      "outputs": [],
      "source": [
        "from cgeniepy.model import GenieModel\n\nmodel = GenieModel(\"/Users/yingrui/Science/lgm_foram_niche/model/muffin.CBE.worlg4.BASESFeTDTL.SPIN\")\nsst = model.get_var('ocn_sur_temp').isel(time=-1)\n## plot the sea surface temperature in the Atlantic Ocean only\nsst.sel_modern_basin(['NAO','EAO','SAO']).plot(outline=True, colorbar=True)"
      ]
    }
  ],
  "metadata": {
    "kernelspec": {
      "display_name": "Python 3",
      "language": "python",
      "name": "python3"
    },
    "language_info": {
      "codemirror_mode": {
        "name": "ipython",
        "version": 3
      },
      "file_extension": ".py",
      "mimetype": "text/x-python",
      "name": "python",
      "nbconvert_exporter": "python",
      "pygments_lexer": "ipython3",
      "version": "3.10.12"
    }
  },
  "nbformat": 4,
  "nbformat_minor": 0
}